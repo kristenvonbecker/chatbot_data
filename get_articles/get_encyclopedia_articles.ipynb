{
 "cells": [
  {
   "cell_type": "code",
   "execution_count": 51,
   "metadata": {
    "collapsed": true
   },
   "outputs": [],
   "source": [
    "import os\n",
    "from dotenv import load_dotenv\n",
    "load_dotenv()\n",
    "\n",
    "import json\n",
    "\n",
    "from get_articles import get_data\n",
    "from get_articles import process_articles\n",
    "\n",
    "from importlib import reload\n",
    "reload(get_data)\n",
    "reload(process_articles)\n",
    "\n",
    "import pprint\n",
    "pp = pprint.PrettyPrinter(indent=2)"
   ]
  },
  {
   "cell_type": "code",
   "execution_count": 42,
   "outputs": [],
   "source": [
    "home = os.getenv(\"PROJ_HOME\")\n",
    "\n",
    "institutional_data_path = os.path.join(home, \"data/institutional\")\n",
    "metadata_path = os.path.join(home, \"data/subject_matter/metadata\")\n",
    "article_ids_path = os.path.join(home, \"data/cache/article_ids.json\")\n",
    "data_out_dir = os.path.join(home, \"data/subject_matter/encyclopedia\")"
   ],
   "metadata": {
    "collapsed": false
   }
  },
  {
   "cell_type": "code",
   "execution_count": 368,
   "outputs": [],
   "source": [
    "# get encyclopedia metadata\n",
    "\n",
    "def get_metadata(sources=[\"advanced\"], path=None):\n",
    "    articles = {}\n",
    "\n",
    "    for source in sources:\n",
    "        articles_in_source = get_data.get_encyclopedia_metadata(source, path)\n",
    "        articles[source] = articles_in_source\n",
    "\n",
    "    # remove articles with empty title fields\n",
    "    for source in sources:\n",
    "        for article in articles[source]:\n",
    "            if article['title'] == '':\n",
    "                articles[source].remove(article)\n",
    "\n",
    "    if not os.path.exists(path):\n",
    "        os.makedirs(path)\n",
    "\n",
    "    for source in sources:\n",
    "        filepath = os.path.join(path, source + '.json')\n",
    "\n",
    "        if os.path.exists(filepath):\n",
    "            os.remove(filepath)\n",
    "\n",
    "        with open(filepath, \"w\") as outfile:\n",
    "            outfile.write(json.dumps(articles[source], indent=2))\n",
    "\n",
    "    return articles"
   ],
   "metadata": {
    "collapsed": false
   }
  },
  {
   "cell_type": "code",
   "execution_count": 369,
   "outputs": [],
   "source": [
    "advanced_metadata = get_metadata(path=metadata_path)"
   ],
   "metadata": {
    "collapsed": false
   }
  },
  {
   "cell_type": "code",
   "execution_count": 43,
   "outputs": [],
   "source": [
    "# load article_ids to get\n",
    "\n",
    "with open(article_ids_path, \"r\") as infile:\n",
    "    article_ids = json.load(infile)"
   ],
   "metadata": {
    "collapsed": false
   }
  },
  {
   "cell_type": "code",
   "execution_count": 58,
   "outputs": [
    {
     "data": {
      "text/plain": "             Title Alt Title Field  Is Person  \\\n62898  reciprocity        []    []          0   \n38514         Guna        []    []          0   \n62859      Reading        []    []          0   \n62860      Reading        []    []          0   \n3431   Abū Qīr Bay        []    []          0   \n\n                                                    Text  \n62898    reciprocity , in international trade, the gr...  \n38514    Guna , also spelled Goona , city, northern M...  \n62859    Reading: Eng., on the River Kennet © Amanda ...  \n62860    Reading: Pa. Reading , city, seat (1752) of ...  \n3431     Abū Qīr Bay , also called Abukir Bay , or Ab...  ",
      "text/html": "<div>\n<style scoped>\n    .dataframe tbody tr th:only-of-type {\n        vertical-align: middle;\n    }\n\n    .dataframe tbody tr th {\n        vertical-align: top;\n    }\n\n    .dataframe thead th {\n        text-align: right;\n    }\n</style>\n<table border=\"1\" class=\"dataframe\">\n  <thead>\n    <tr style=\"text-align: right;\">\n      <th></th>\n      <th>Title</th>\n      <th>Alt Title</th>\n      <th>Field</th>\n      <th>Is Person</th>\n      <th>Text</th>\n    </tr>\n  </thead>\n  <tbody>\n    <tr>\n      <th>62898</th>\n      <td>reciprocity</td>\n      <td>[]</td>\n      <td>[]</td>\n      <td>0</td>\n      <td>reciprocity , in international trade, the gr...</td>\n    </tr>\n    <tr>\n      <th>38514</th>\n      <td>Guna</td>\n      <td>[]</td>\n      <td>[]</td>\n      <td>0</td>\n      <td>Guna , also spelled Goona , city, northern M...</td>\n    </tr>\n    <tr>\n      <th>62859</th>\n      <td>Reading</td>\n      <td>[]</td>\n      <td>[]</td>\n      <td>0</td>\n      <td>Reading: Eng., on the River Kennet © Amanda ...</td>\n    </tr>\n    <tr>\n      <th>62860</th>\n      <td>Reading</td>\n      <td>[]</td>\n      <td>[]</td>\n      <td>0</td>\n      <td>Reading: Pa. Reading , city, seat (1752) of ...</td>\n    </tr>\n    <tr>\n      <th>3431</th>\n      <td>Abū Qīr Bay</td>\n      <td>[]</td>\n      <td>[]</td>\n      <td>0</td>\n      <td>Abū Qīr Bay , also called Abukir Bay , or Ab...</td>\n    </tr>\n  </tbody>\n</table>\n</div>"
     },
     "execution_count": 58,
     "metadata": {},
     "output_type": "execute_result"
    }
   ],
   "source": [
    "# test the get_articles function\n",
    "first_5_articles = get_data.get_articles(article_ids[:5])\n",
    "df = process_articles.clean_articles(first_5_articles)\n",
    "df"
   ],
   "metadata": {
    "collapsed": false
   }
  },
  {
   "cell_type": "code",
   "execution_count": 59,
   "outputs": [],
   "source": [
    "filepath = os.path.join(home, \"data/subject_matter/encyclopedia/data.csv\")\n",
    "df.to_csv(filepath)"
   ],
   "metadata": {
    "collapsed": false
   }
  },
  {
   "cell_type": "code",
   "execution_count": null,
   "outputs": [],
   "source": [],
   "metadata": {
    "collapsed": false
   }
  }
 ],
 "metadata": {
  "kernelspec": {
   "display_name": "Python 3",
   "language": "python",
   "name": "python3"
  },
  "language_info": {
   "codemirror_mode": {
    "name": "ipython",
    "version": 2
   },
   "file_extension": ".py",
   "mimetype": "text/x-python",
   "name": "python",
   "nbconvert_exporter": "python",
   "pygments_lexer": "ipython2",
   "version": "2.7.6"
  }
 },
 "nbformat": 4,
 "nbformat_minor": 0
}
