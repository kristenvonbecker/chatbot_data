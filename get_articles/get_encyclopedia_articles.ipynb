{
 "cells": [
  {
   "cell_type": "code",
   "execution_count": 30,
   "metadata": {
    "collapsed": true
   },
   "outputs": [],
   "source": [
    "import os\n",
    "from dotenv import load_dotenv\n",
    "load_dotenv()\n",
    "\n",
    "import json\n",
    "\n",
    "from get_articles import get_data\n",
    "from get_articles import process_articles\n",
    "\n",
    "from importlib import reload\n",
    "reload(get_data)\n",
    "reload(process_articles)\n",
    "\n",
    "import pprint\n",
    "pp = pprint.PrettyPrinter(indent=2)"
   ]
  },
  {
   "cell_type": "code",
   "execution_count": 3,
   "outputs": [],
   "source": [
    "home = os.getenv(\"PROJ_HOME\")\n",
    "\n",
    "institutional_data_path = os.path.join(home, \"data/institutional\")\n",
    "metadata_path = os.path.join(home, \"data/subject_matter/metadata\")\n",
    "article_ids_path = os.path.join(home, \"data/cache/article_ids.json\")\n",
    "data_out_dir = os.path.join(home, \"data/subject_matter/encyclopedia\")"
   ],
   "metadata": {
    "collapsed": false
   }
  },
  {
   "cell_type": "code",
   "execution_count": 368,
   "outputs": [],
   "source": [
    "# get encyclopedia metadata\n",
    "\n",
    "def get_metadata(sources=[\"advanced\"], path=None):\n",
    "    articles = {}\n",
    "\n",
    "    for source in sources:\n",
    "        articles_in_source = get_data.get_encyclopedia_metadata(source, path)\n",
    "        articles[source] = articles_in_source\n",
    "\n",
    "    # remove articles with empty title fields\n",
    "    for source in sources:\n",
    "        for article in articles[source]:\n",
    "            if article['title'] == '':\n",
    "                articles[source].remove(article)\n",
    "\n",
    "    if not os.path.exists(path):\n",
    "        os.makedirs(path)\n",
    "\n",
    "    for source in sources:\n",
    "        filepath = os.path.join(path, source + '.json')\n",
    "\n",
    "        if os.path.exists(filepath):\n",
    "            os.remove(filepath)\n",
    "\n",
    "        with open(filepath, \"w\") as outfile:\n",
    "            outfile.write(json.dumps(articles[source], indent=2))\n",
    "\n",
    "    return articles"
   ],
   "metadata": {
    "collapsed": false
   }
  },
  {
   "cell_type": "code",
   "execution_count": 369,
   "outputs": [],
   "source": [
    "advanced_metadata = get_metadata(path=metadata_path)"
   ],
   "metadata": {
    "collapsed": false
   }
  },
  {
   "cell_type": "code",
   "execution_count": 4,
   "outputs": [],
   "source": [
    "# load article_ids to get\n",
    "\n",
    "with open(article_ids_path, \"r\") as infile:\n",
    "    article_ids = json.load(infile)"
   ],
   "metadata": {
    "collapsed": false
   }
  },
  {
   "cell_type": "code",
   "execution_count": null,
   "outputs": [],
   "source": [
    "# get the articles from the API\n",
    "articles = get_data.get_articles(article_ids)"
   ],
   "metadata": {
    "collapsed": false,
    "pycharm": {
     "is_executing": true
    }
   }
  },
  {
   "cell_type": "code",
   "execution_count": null,
   "outputs": [],
   "source": [
    "# clean articles and save to a dataframe\n",
    "\n",
    "df = process_articles.clean_articles(articles)"
   ],
   "metadata": {
    "collapsed": false,
    "pycharm": {
     "is_executing": true
    }
   }
  },
  {
   "cell_type": "code",
   "execution_count": 55,
   "outputs": [],
   "source": [
    "# save dataframe to disk as csv\n",
    "\n",
    "filepath = os.path.join(home, \"data/subject_matter/encyclopedia/data.csv\")\n",
    "df.to_csv(filepath)"
   ],
   "metadata": {
    "collapsed": false
   }
  }
 ],
 "metadata": {
  "kernelspec": {
   "display_name": "Python 3",
   "language": "python",
   "name": "python3"
  },
  "language_info": {
   "codemirror_mode": {
    "name": "ipython",
    "version": 2
   },
   "file_extension": ".py",
   "mimetype": "text/x-python",
   "name": "python",
   "nbconvert_exporter": "python",
   "pygments_lexer": "ipython2",
   "version": "2.7.6"
  }
 },
 "nbformat": 4,
 "nbformat_minor": 0
}
